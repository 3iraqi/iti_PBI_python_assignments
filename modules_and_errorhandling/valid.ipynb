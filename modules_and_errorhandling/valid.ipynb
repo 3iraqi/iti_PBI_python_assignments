{
 "cells": [
  {
   "cell_type": "code",
   "execution_count": 9,
   "metadata": {},
   "outputs": [
    {
     "name": "stdout",
     "output_type": "stream",
     "text": [
      "valid email\n"
     ]
    }
   ],
   "source": [
    "def validate_email():\n",
    "    counter=0\n",
    "    while True:\n",
    "        counter+=1\n",
    "        try:\n",
    "            username,domain=input('enter your email address').split('@')\n",
    "            if counter >=5:\n",
    "                raise (\"Invalid email for  times. you have been blocked\")\n",
    "        except ValueError:\n",
    "            print('Invalid Email')\n",
    "            # continue\n",
    "        else:\n",
    "            return print('valid email')\n",
    "        \n",
    "validate_email()"
   ]
  },
  {
   "cell_type": "code",
   "execution_count": 7,
   "metadata": {},
   "outputs": [
    {
     "ename": "ValueError",
     "evalue": "not enough values to unpack (expected 2, got 1)",
     "output_type": "error",
     "traceback": [
      "\u001b[1;31m---------------------------------------------------------------------------\u001b[0m",
      "\u001b[1;31mValueError\u001b[0m                                Traceback (most recent call last)",
      "Cell \u001b[1;32mIn[7], line 1\u001b[0m\n\u001b[1;32m----> 1\u001b[0m x,y\u001b[38;5;241m=\u001b[39m\u001b[38;5;124m\"\u001b[39m\u001b[38;5;124mmohamed.8.eleraqigmail.com\u001b[39m\u001b[38;5;124m\"\u001b[39m\u001b[38;5;241m.\u001b[39msplit(\u001b[38;5;124m'\u001b[39m\u001b[38;5;124m@\u001b[39m\u001b[38;5;124m'\u001b[39m)\n",
      "\u001b[1;31mValueError\u001b[0m: not enough values to unpack (expected 2, got 1)"
     ]
    }
   ],
   "source": [
    "x,y=\"mohamed.8.eleraqigmail.com\".split('@')\n"
   ]
  },
  {
   "cell_type": "code",
   "execution_count": 10,
   "metadata": {},
   "outputs": [
    {
     "name": "stdout",
     "output_type": "stream",
     "text": [
      "UnValid: not enough values to unpack (expected 2, got 1)\n",
      "UnValid: not enough values to unpack (expected 2, got 1)\n",
      "Valid Email. Welcome ('mohamed.8.eleraqi)\n"
     ]
    }
   ],
   "source": [
    "email = ''\n",
    "\n",
    "while True:\n",
    "    email = input(\"Enter your email: \")\n",
    "\n",
    "    try:\n",
    "        # Check if '@' is present exactly once\n",
    "        username, domain = email.split('@')\n",
    "\n",
    "        # Check if '.' is present in the domain\n",
    "        if '.' not in domain:\n",
    "            raise ValueError(\"Missing '.' in domain\")\n",
    "\n",
    "        # Check if '@' is at the start or '.' is at the start or end\n",
    "        if email.index('@') == 0 or email[-1] == '.' or email.index('.') == 0:\n",
    "            raise ValueError(\"Invalid email format\")\n",
    "\n",
    "        # Check if '@.' is in email\n",
    "        if '@.' in email:\n",
    "            raise ValueError(\"Invalid sequence '@.' in email\")\n",
    "\n",
    "        # Check if domain has more than one '.'\n",
    "        if domain.count('.') > 1:\n",
    "            raise ValueError(\"Too many '.' in domain\")\n",
    "\n",
    "        # If all checks pass\n",
    "        print(f'Valid Email. Welcome ({username})')\n",
    "        break\n",
    "\n",
    "    except ValueError as e:\n",
    "        print(f\"UnValid: {e}\")\n"
   ]
  }
 ],
 "metadata": {
  "kernelspec": {
   "display_name": "ydata_env",
   "language": "python",
   "name": "python3"
  },
  "language_info": {
   "codemirror_mode": {
    "name": "ipython",
    "version": 3
   },
   "file_extension": ".py",
   "mimetype": "text/x-python",
   "name": "python",
   "nbconvert_exporter": "python",
   "pygments_lexer": "ipython3",
   "version": "3.9.21"
  }
 },
 "nbformat": 4,
 "nbformat_minor": 2
}
